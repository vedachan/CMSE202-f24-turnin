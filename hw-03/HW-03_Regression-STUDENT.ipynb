{
 "cells": [
  {
   "cell_type": "markdown",
   "metadata": {},
   "source": [
    "### <p style=\"text-align: right;\"> &#9989; Veda Chandrasekar.</p>\n",
    "### <p style=\"text-align: right;\"> &#9989; vedachan</p>"
   ]
  },
  {
   "cell_type": "markdown",
   "metadata": {},
   "source": [
    "# Homework Assignment 3\n",
    "## Regression models"
   ]
  },
  {
   "cell_type": "markdown",
   "metadata": {},
   "source": [
    "### Goal for this homework assignment\n",
    "By now, you have learned a bit about regression models. In this assignment, you will practice:\n",
    "\n",
    "* Using branches in Git\n",
    "* Performing linear regression\n",
    "* Performing multiple regression\n",
    "* Performing logistic regression\n",
    "\n",
    "**This assignment is due by 11:59 pm on Friday, November 15th.** It should be uploaded into the \"Homework Assignments\" submission folder for Homework 3.  Submission instructions can be found at the end of the notebook. **There are 72 standard points possible in this assignment. The distribution of points can be found in the section headers**.\n"
   ]
  },
  {
   "cell_type": "markdown",
   "metadata": {},
   "source": [
    "---\n",
    "## Part 1: Git Branch (6 points)\n",
    "\n",
    "\n",
    "For this assignment, you're going to add it to the `cmse202-f24-turnin` repository you created in class so that you can track your progress on the assignment and preserve the final version that you turn in. In order to do this you need to\n",
    "\n",
    "**&#9989; Do the following**:\n",
    "\n",
    "1. Navigate to your `cmse202-f24-turnin` **local** repository and create a new directory called `hw-03`\n",
    "\n",
    "2. Move this notebook into that **new directory** in your repository, but **do not** add or commit it to your repository yet.\n",
    "\n",
    "3. Create a **new branch** called `hw03_branch` (The Day 16 PCA and ICA content has information on how to do this).\n",
    "\n",
    "4. \"Check out\" the new branch (so that you'll be working on that branch). \n",
    "\n",
    "5. Double check to make sure you are actually on that branch.\n",
    "\n",
    "6. Once you're certain you're working on your new branch, add this notebook to your repository, then make a commit and push it to GitHub. You may need to use `git push origin hw03_branch` to push your new branch to GitHub.\n",
    "\n",
    "Finally, &#9989; **Do this**: Before you move on, put the command that your instructor should run to clone your repository in the markdown cell below."
   ]
  },
  {
   "cell_type": "markdown",
   "metadata": {},
   "source": [
    "<font size=6 color=\"#009600\">&#9998;</font> git clone https://github.com/vedachan/CMSE202-f24-turnin.git"
   ]
  },
  {
   "cell_type": "markdown",
   "metadata": {},
   "source": [
    "**Important**: Double check you've added your Professor and your TA as collaborators to your \"turnin\" repository (you should have done this in the previous homework assignment).\n",
    "\n",
    "**Also important**: Make sure that the version of this notebook that you are working on is the same one that you just added to your repository! If you are working on a different copy of the notebook, **none of your changes will be tracked**!\n",
    "\n",
    "If everything went as intended, the file should now show up on your GitHub account in the \"`cmse202-f24-turnin`\" repository inside the `hw-03` directory that you just created within the new branch `hw03-branch`.\n",
    "\n",
    "Periodically, **you'll be asked to commit your changes to the repository and push them to the remote GitHub location**. Of course, you can always commit your changes more often than that, if you wish.  It can be good to get into a habit of committing your changes any time you make a significant modification, or when you stop working on the project for a bit.\n"
   ]
  },
  {
   "cell_type": "markdown",
   "metadata": {},
   "source": [
    "---\n",
    "## Part 2: Loading up on Portuguese Wine (13 points)\n",
    "\n",
    "\n",
    "For this homework, you’ll be working with the Wine Quality dataset from the UCI Machine Learning Repository, which contains measurements of various chemical properties of red and white wines. The dataset includes properties like fixed acidity, volatile acidity, citric acid, and other measurements important for understanding wine characteristics. This data was collected to support predictive models of wine quality, based on a range of measurable attributes. The wine dataset is distributed into two files: 1) for red wines and 2) for white wines. \n",
    "\n",
    "While Parts 3, 4, and 5 are structured so that they can be completed independently of each other, it is recommended to finish Part 2 before moving on to these sections. To get started on Part 2, you’ll need to download the following file:\n",
    "\n",
    "https://archive.ics.uci.edu/ml/machine-learning-databases/wine-quality/winequality-red.csv\n",
    "https://archive.ics.uci.edu/ml/machine-learning-databases/wine-quality/winequality-white.csv\n",
    "\n",
    "and a description of the files here:\n",
    "\n",
    "https://archive.ics.uci.edu/ml/machine-learning-databases/wine-quality/winequality.names\n",
    "\n",
    "✅ **Question 2.1 (1 point)**: Do this: Save the winequality-red.csv, winequality-white.csv,  file in the same directory as your notebook. Then, in the cell below, put the command line command(s) you used to download the file. If you did not use a command line tool to download the file, write down the command(s) that would have downloaded the file."
   ]
  },
  {
   "cell_type": "markdown",
   "metadata": {},
   "source": [
    "``` bash\n",
    "# Put the command you used to download the wine dataests file here.\n",
    "```"
   ]
  },
  {
   "cell_type": "markdown",
   "metadata": {},
   "source": [
    "curl -O"
   ]
  },
  {
   "cell_type": "markdown",
   "metadata": {},
   "source": [
    "&#9989;  **Question 2.2 (4 points)**: Next, load the data of red and white wine into two separate Pandas DataFrames and display the first and last 5 rows. "
   ]
  },
  {
   "cell_type": "code",
   "execution_count": 1,
   "metadata": {},
   "outputs": [
    {
     "ename": "FileNotFoundError",
     "evalue": "[Errno 2] No such file or directory: 'data/winequality-red.csv'",
     "output_type": "error",
     "traceback": [
      "\u001b[0;31m---------------------------------------------------------------------------\u001b[0m",
      "\u001b[0;31mFileNotFoundError\u001b[0m                         Traceback (most recent call last)",
      "Cell \u001b[0;32mIn[1], line 5\u001b[0m\n\u001b[1;32m      2\u001b[0m \u001b[38;5;28;01mimport\u001b[39;00m \u001b[38;5;21;01mpandas\u001b[39;00m \u001b[38;5;28;01mas\u001b[39;00m \u001b[38;5;21;01mpd\u001b[39;00m\n\u001b[1;32m      4\u001b[0m \u001b[38;5;66;03m# Load the data into two separate DataFrames\u001b[39;00m\n\u001b[0;32m----> 5\u001b[0m red_wine_df \u001b[38;5;241m=\u001b[39m pd\u001b[38;5;241m.\u001b[39mread_csv(\u001b[38;5;124m\"\u001b[39m\u001b[38;5;124mdata/winequality-red.csv\u001b[39m\u001b[38;5;124m\"\u001b[39m, sep\u001b[38;5;241m=\u001b[39m\u001b[38;5;124m\"\u001b[39m\u001b[38;5;124m;\u001b[39m\u001b[38;5;124m\"\u001b[39m)\n\u001b[1;32m      6\u001b[0m white_wine_df \u001b[38;5;241m=\u001b[39m pd\u001b[38;5;241m.\u001b[39mread_csv(\u001b[38;5;124m\"\u001b[39m\u001b[38;5;124mdata/winequality-white.csv\u001b[39m\u001b[38;5;124m\"\u001b[39m, sep\u001b[38;5;241m=\u001b[39m\u001b[38;5;124m\"\u001b[39m\u001b[38;5;124m;\u001b[39m\u001b[38;5;124m\"\u001b[39m)\n\u001b[1;32m      8\u001b[0m \u001b[38;5;66;03m# Display the first 5 and last 5 rows of the red wine DataFrame\u001b[39;00m\n",
      "File \u001b[0;32m~/anaconda3/lib/python3.11/site-packages/pandas/io/parsers/readers.py:912\u001b[0m, in \u001b[0;36mread_csv\u001b[0;34m(filepath_or_buffer, sep, delimiter, header, names, index_col, usecols, dtype, engine, converters, true_values, false_values, skipinitialspace, skiprows, skipfooter, nrows, na_values, keep_default_na, na_filter, verbose, skip_blank_lines, parse_dates, infer_datetime_format, keep_date_col, date_parser, date_format, dayfirst, cache_dates, iterator, chunksize, compression, thousands, decimal, lineterminator, quotechar, quoting, doublequote, escapechar, comment, encoding, encoding_errors, dialect, on_bad_lines, delim_whitespace, low_memory, memory_map, float_precision, storage_options, dtype_backend)\u001b[0m\n\u001b[1;32m    899\u001b[0m kwds_defaults \u001b[38;5;241m=\u001b[39m _refine_defaults_read(\n\u001b[1;32m    900\u001b[0m     dialect,\n\u001b[1;32m    901\u001b[0m     delimiter,\n\u001b[0;32m   (...)\u001b[0m\n\u001b[1;32m    908\u001b[0m     dtype_backend\u001b[38;5;241m=\u001b[39mdtype_backend,\n\u001b[1;32m    909\u001b[0m )\n\u001b[1;32m    910\u001b[0m kwds\u001b[38;5;241m.\u001b[39mupdate(kwds_defaults)\n\u001b[0;32m--> 912\u001b[0m \u001b[38;5;28;01mreturn\u001b[39;00m _read(filepath_or_buffer, kwds)\n",
      "File \u001b[0;32m~/anaconda3/lib/python3.11/site-packages/pandas/io/parsers/readers.py:577\u001b[0m, in \u001b[0;36m_read\u001b[0;34m(filepath_or_buffer, kwds)\u001b[0m\n\u001b[1;32m    574\u001b[0m _validate_names(kwds\u001b[38;5;241m.\u001b[39mget(\u001b[38;5;124m\"\u001b[39m\u001b[38;5;124mnames\u001b[39m\u001b[38;5;124m\"\u001b[39m, \u001b[38;5;28;01mNone\u001b[39;00m))\n\u001b[1;32m    576\u001b[0m \u001b[38;5;66;03m# Create the parser.\u001b[39;00m\n\u001b[0;32m--> 577\u001b[0m parser \u001b[38;5;241m=\u001b[39m TextFileReader(filepath_or_buffer, \u001b[38;5;241m*\u001b[39m\u001b[38;5;241m*\u001b[39mkwds)\n\u001b[1;32m    579\u001b[0m \u001b[38;5;28;01mif\u001b[39;00m chunksize \u001b[38;5;129;01mor\u001b[39;00m iterator:\n\u001b[1;32m    580\u001b[0m     \u001b[38;5;28;01mreturn\u001b[39;00m parser\n",
      "File \u001b[0;32m~/anaconda3/lib/python3.11/site-packages/pandas/io/parsers/readers.py:1407\u001b[0m, in \u001b[0;36mTextFileReader.__init__\u001b[0;34m(self, f, engine, **kwds)\u001b[0m\n\u001b[1;32m   1404\u001b[0m     \u001b[38;5;28mself\u001b[39m\u001b[38;5;241m.\u001b[39moptions[\u001b[38;5;124m\"\u001b[39m\u001b[38;5;124mhas_index_names\u001b[39m\u001b[38;5;124m\"\u001b[39m] \u001b[38;5;241m=\u001b[39m kwds[\u001b[38;5;124m\"\u001b[39m\u001b[38;5;124mhas_index_names\u001b[39m\u001b[38;5;124m\"\u001b[39m]\n\u001b[1;32m   1406\u001b[0m \u001b[38;5;28mself\u001b[39m\u001b[38;5;241m.\u001b[39mhandles: IOHandles \u001b[38;5;241m|\u001b[39m \u001b[38;5;28;01mNone\u001b[39;00m \u001b[38;5;241m=\u001b[39m \u001b[38;5;28;01mNone\u001b[39;00m\n\u001b[0;32m-> 1407\u001b[0m \u001b[38;5;28mself\u001b[39m\u001b[38;5;241m.\u001b[39m_engine \u001b[38;5;241m=\u001b[39m \u001b[38;5;28mself\u001b[39m\u001b[38;5;241m.\u001b[39m_make_engine(f, \u001b[38;5;28mself\u001b[39m\u001b[38;5;241m.\u001b[39mengine)\n",
      "File \u001b[0;32m~/anaconda3/lib/python3.11/site-packages/pandas/io/parsers/readers.py:1661\u001b[0m, in \u001b[0;36mTextFileReader._make_engine\u001b[0;34m(self, f, engine)\u001b[0m\n\u001b[1;32m   1659\u001b[0m     \u001b[38;5;28;01mif\u001b[39;00m \u001b[38;5;124m\"\u001b[39m\u001b[38;5;124mb\u001b[39m\u001b[38;5;124m\"\u001b[39m \u001b[38;5;129;01mnot\u001b[39;00m \u001b[38;5;129;01min\u001b[39;00m mode:\n\u001b[1;32m   1660\u001b[0m         mode \u001b[38;5;241m+\u001b[39m\u001b[38;5;241m=\u001b[39m \u001b[38;5;124m\"\u001b[39m\u001b[38;5;124mb\u001b[39m\u001b[38;5;124m\"\u001b[39m\n\u001b[0;32m-> 1661\u001b[0m \u001b[38;5;28mself\u001b[39m\u001b[38;5;241m.\u001b[39mhandles \u001b[38;5;241m=\u001b[39m get_handle(\n\u001b[1;32m   1662\u001b[0m     f,\n\u001b[1;32m   1663\u001b[0m     mode,\n\u001b[1;32m   1664\u001b[0m     encoding\u001b[38;5;241m=\u001b[39m\u001b[38;5;28mself\u001b[39m\u001b[38;5;241m.\u001b[39moptions\u001b[38;5;241m.\u001b[39mget(\u001b[38;5;124m\"\u001b[39m\u001b[38;5;124mencoding\u001b[39m\u001b[38;5;124m\"\u001b[39m, \u001b[38;5;28;01mNone\u001b[39;00m),\n\u001b[1;32m   1665\u001b[0m     compression\u001b[38;5;241m=\u001b[39m\u001b[38;5;28mself\u001b[39m\u001b[38;5;241m.\u001b[39moptions\u001b[38;5;241m.\u001b[39mget(\u001b[38;5;124m\"\u001b[39m\u001b[38;5;124mcompression\u001b[39m\u001b[38;5;124m\"\u001b[39m, \u001b[38;5;28;01mNone\u001b[39;00m),\n\u001b[1;32m   1666\u001b[0m     memory_map\u001b[38;5;241m=\u001b[39m\u001b[38;5;28mself\u001b[39m\u001b[38;5;241m.\u001b[39moptions\u001b[38;5;241m.\u001b[39mget(\u001b[38;5;124m\"\u001b[39m\u001b[38;5;124mmemory_map\u001b[39m\u001b[38;5;124m\"\u001b[39m, \u001b[38;5;28;01mFalse\u001b[39;00m),\n\u001b[1;32m   1667\u001b[0m     is_text\u001b[38;5;241m=\u001b[39mis_text,\n\u001b[1;32m   1668\u001b[0m     errors\u001b[38;5;241m=\u001b[39m\u001b[38;5;28mself\u001b[39m\u001b[38;5;241m.\u001b[39moptions\u001b[38;5;241m.\u001b[39mget(\u001b[38;5;124m\"\u001b[39m\u001b[38;5;124mencoding_errors\u001b[39m\u001b[38;5;124m\"\u001b[39m, \u001b[38;5;124m\"\u001b[39m\u001b[38;5;124mstrict\u001b[39m\u001b[38;5;124m\"\u001b[39m),\n\u001b[1;32m   1669\u001b[0m     storage_options\u001b[38;5;241m=\u001b[39m\u001b[38;5;28mself\u001b[39m\u001b[38;5;241m.\u001b[39moptions\u001b[38;5;241m.\u001b[39mget(\u001b[38;5;124m\"\u001b[39m\u001b[38;5;124mstorage_options\u001b[39m\u001b[38;5;124m\"\u001b[39m, \u001b[38;5;28;01mNone\u001b[39;00m),\n\u001b[1;32m   1670\u001b[0m )\n\u001b[1;32m   1671\u001b[0m \u001b[38;5;28;01massert\u001b[39;00m \u001b[38;5;28mself\u001b[39m\u001b[38;5;241m.\u001b[39mhandles \u001b[38;5;129;01mis\u001b[39;00m \u001b[38;5;129;01mnot\u001b[39;00m \u001b[38;5;28;01mNone\u001b[39;00m\n\u001b[1;32m   1672\u001b[0m f \u001b[38;5;241m=\u001b[39m \u001b[38;5;28mself\u001b[39m\u001b[38;5;241m.\u001b[39mhandles\u001b[38;5;241m.\u001b[39mhandle\n",
      "File \u001b[0;32m~/anaconda3/lib/python3.11/site-packages/pandas/io/common.py:859\u001b[0m, in \u001b[0;36mget_handle\u001b[0;34m(path_or_buf, mode, encoding, compression, memory_map, is_text, errors, storage_options)\u001b[0m\n\u001b[1;32m    854\u001b[0m \u001b[38;5;28;01melif\u001b[39;00m \u001b[38;5;28misinstance\u001b[39m(handle, \u001b[38;5;28mstr\u001b[39m):\n\u001b[1;32m    855\u001b[0m     \u001b[38;5;66;03m# Check whether the filename is to be opened in binary mode.\u001b[39;00m\n\u001b[1;32m    856\u001b[0m     \u001b[38;5;66;03m# Binary mode does not support 'encoding' and 'newline'.\u001b[39;00m\n\u001b[1;32m    857\u001b[0m     \u001b[38;5;28;01mif\u001b[39;00m ioargs\u001b[38;5;241m.\u001b[39mencoding \u001b[38;5;129;01mand\u001b[39;00m \u001b[38;5;124m\"\u001b[39m\u001b[38;5;124mb\u001b[39m\u001b[38;5;124m\"\u001b[39m \u001b[38;5;129;01mnot\u001b[39;00m \u001b[38;5;129;01min\u001b[39;00m ioargs\u001b[38;5;241m.\u001b[39mmode:\n\u001b[1;32m    858\u001b[0m         \u001b[38;5;66;03m# Encoding\u001b[39;00m\n\u001b[0;32m--> 859\u001b[0m         handle \u001b[38;5;241m=\u001b[39m \u001b[38;5;28mopen\u001b[39m(\n\u001b[1;32m    860\u001b[0m             handle,\n\u001b[1;32m    861\u001b[0m             ioargs\u001b[38;5;241m.\u001b[39mmode,\n\u001b[1;32m    862\u001b[0m             encoding\u001b[38;5;241m=\u001b[39mioargs\u001b[38;5;241m.\u001b[39mencoding,\n\u001b[1;32m    863\u001b[0m             errors\u001b[38;5;241m=\u001b[39merrors,\n\u001b[1;32m    864\u001b[0m             newline\u001b[38;5;241m=\u001b[39m\u001b[38;5;124m\"\u001b[39m\u001b[38;5;124m\"\u001b[39m,\n\u001b[1;32m    865\u001b[0m         )\n\u001b[1;32m    866\u001b[0m     \u001b[38;5;28;01melse\u001b[39;00m:\n\u001b[1;32m    867\u001b[0m         \u001b[38;5;66;03m# Binary mode\u001b[39;00m\n\u001b[1;32m    868\u001b[0m         handle \u001b[38;5;241m=\u001b[39m \u001b[38;5;28mopen\u001b[39m(handle, ioargs\u001b[38;5;241m.\u001b[39mmode)\n",
      "\u001b[0;31mFileNotFoundError\u001b[0m: [Errno 2] No such file or directory: 'data/winequality-red.csv'"
     ]
    }
   ],
   "source": [
    "# Put your code here\n",
    "import pandas as pd\n",
    "\n",
    "# Load the data into two separate DataFrames\n",
    "red_wine_df = pd.read_csv(\"data/winequality-red.csv\", sep=\";\")\n",
    "white_wine_df = pd.read_csv(\"data/winequality-white.csv\", sep=\";\")\n",
    "\n",
    "# Display the first 5 and last 5 rows of the red wine DataFrame\n",
    "print(\"Red Wine Data (first 5 rows):\")\n",
    "print(red_wine_df.head())\n",
    "print(\"\\nRed Wine Data (last 5 rows):\")\n",
    "print(red_wine_df.tail())\n",
    "\n",
    "# Display the first 5 and last 5 rows of the white wine DataFrame\n",
    "print(\"\\nWhite Wine Data (first 5 rows):\")\n",
    "print(white_wine_df.head())\n",
    "print(\"\\nWhite Wine Data (last 5 rows):\")\n",
    "print(white_wine_df.tail())\n"
   ]
  },
  {
   "cell_type": "markdown",
   "metadata": {},
   "source": [
    "&#9989;  **Question 2.3 (4 points)**: Let’s investigate which features of red wines are correlated by plotting a correlation heatmap using Seaborn. Create a heatmap to visualize the relationships between various chemical properties of red wine.\n",
    "\n",
    "Remember to rotate the tick labels so they are easy to read, and use tight_layout() to avoid any label cut-offs."
   ]
  },
  {
   "cell_type": "code",
   "execution_count": 2,
   "metadata": {},
   "outputs": [],
   "source": [
    "# Put your code here"
   ]
  },
  {
   "cell_type": "markdown",
   "metadata": {},
   "source": [
    "&#9989;  **Question 2.4 (4 points)**: Let’s investigate which features of white wines now are correlated by plotting a correlation heatmap using Seaborn. Create a heatmap to visualize the relationships between various chemical properties of red wine.\n",
    "\n",
    "Remember to rotate the tick labels so they are easy to read, and use tight_layout() to avoid any label cut-offs.\n",
    "Which features are different between red and white?"
   ]
  },
  {
   "cell_type": "code",
   "execution_count": null,
   "metadata": {},
   "outputs": [],
   "source": [
    "# Put your code here"
   ]
  },
  {
   "cell_type": "markdown",
   "metadata": {},
   "source": [
    "---\n",
    "### &#128721; STOP\n",
    "**Pause to commit your changes to your Git repository!**\n",
    "\n",
    "Take a moment to save your notebook, commit the changes to your local `git` repository using the commit message \"Part 2 complete\", and push the changes to GitHub.\n",
    "\n",
    "---"
   ]
  },
  {
   "cell_type": "markdown",
   "metadata": {},
   "source": [
    "---\n",
    "## Part 3: One Variable Linear Regression (21 points)\n",
    "\n",
    "In exploring the characteristics of wine, understanding the relationship between individual chemical components can provide insights into the wine’s flavor profile, quality, and potential fermentation properties. One simple yet valuable analysis is examining the relationship between citric acid and fixed acidity.\n",
    "\n",
    "Citric acid, a natural preservative that adds freshness, often contributes to the tartness and overall acidity in wine. Meanwhile, fixed acidity is a broader measure that includes acids, such as tartaric and malic acid, giving wine its sharp, crisp taste. By performing a single-variable linear regression with citric acid as the predictor for fixed acidity, we can investigate whether higher levels of citric acid are associated with an increase in fixed acidity, potentially indicating a specific acid balance characteristic to certain wine types.\n",
    "\n",
    "This regression analysis can reveal subtle patterns in acidity management, helping winemakers predict and control acidity levels for quality consistency, and giving scientists insight into how specific acid types interact in the broader context of wine chemistry.\n",
    "\n",
    "&#9989;  **Question 3.1 (3 points)**: Using the OLS method in `statsmodels`, perform a linear regression to predict the fixed acidity of a wine sample using its citric acid content and display the results summary. Remember that you may need to use the add_constant() method to ensure OLS fits a general line  y = ax + b  to the data rather than a line through the origin  y = ax .\n",
    "\n",
    "For this problem, make sure that you’re using the entire wine dataset, not just a subset of the data. So the first part should be to make a combined dataframe (using `pd.concat`) out of white and red"
   ]
  },
  {
   "cell_type": "code",
   "execution_count": null,
   "metadata": {},
   "outputs": [],
   "source": [
    "# Put your code here"
   ]
  },
  {
   "cell_type": "markdown",
   "metadata": {},
   "source": [
    "&#9989;  **Question 3.2 (3 points)**: Answer the following questions: \n",
    "\n",
    "1.\tWhat was the equation of the best-fit linear relationship between a red wine’s fixed acidity and its citric acid content?\n",
    "2.\tAs a red wine’s citric acid content increases, does its fixed acidity increase or decrease? What aspect of the regression output tells you this?\n",
    "3.\tBased on the  p -value for citric acid, is the relationship you found between a wine’s fixed acidity and citric acid content statistically significant? Justify your answer."
   ]
  },
  {
   "cell_type": "markdown",
   "metadata": {},
   "source": [
    "<font size=+3>&#9998;</font> Put your answers here:"
   ]
  },
  {
   "cell_type": "markdown",
   "metadata": {},
   "source": [
    "&#9989; **Question 3.3 (4 points, 2 points per part)**: Now, let's perform linear regression separately for red and white wine. To avoid confusion and ensure that results are not overwritten, make sure that the variable names for the OLS models and results are different for each wine type.\n",
    "\n",
    "&#9989; **Question 3.3.Red (2 points)**: Using the `OLS` method in `statsmodels`, perform a linear regression to predict the **fixed acidity** of red wine samples using **citric acid** as the predictor, and display the results summary.\n",
    "\n"
   ]
  },
  {
   "cell_type": "code",
   "execution_count": null,
   "metadata": {},
   "outputs": [],
   "source": [
    "# Put your code here"
   ]
  },
  {
   "cell_type": "markdown",
   "metadata": {},
   "source": [
    "&#9989; **Question 3.3.White (2 points)**: Using the `OLS` method in `statsmodels`, perform a linear regression to predict the **fixed acidity** of white wine samples using **citric acid** as the predictor, and display the results summary."
   ]
  },
  {
   "cell_type": "code",
   "execution_count": null,
   "metadata": {},
   "outputs": [],
   "source": [
    "# Put your code here"
   ]
  },
  {
   "cell_type": "markdown",
   "metadata": {},
   "source": [
    "&#9989; **Question 3.4 (5 points)**: Answer the following questions:\n",
    "\n",
    "1. For both red and white wines, what is the equation of the best-fit linear relationship between **fixed acidity** and **citric acid**?\n",
    "\n",
    "2. For both red and white wines, as citric acid content increases, does the fixed acidity increase or decrease?\n",
    "\n",
    "3. Based on the \\( p \\)-values for citric acid, is the relationship between fixed acidity and citric acid content statistically significant for each wine type?"
   ]
  },
  {
   "cell_type": "markdown",
   "metadata": {},
   "source": [
    "<font size=+3>&#9998;</font> Put your answers here:\n",
    "\n"
   ]
  },
  {
   "cell_type": "markdown",
   "metadata": {},
   "source": [
    "&#9989; **Question 3.5 (6 points)**: Assuming you did everything correctly, the relationship between a wine's **fixed acidity** and **citric acid** content may differ when you split the data by wine type (red or white). This might seem confusing at first. Part of the reason for this is because we skipped a very important step when working with unfamiliar data: **visualizing the data**.\n",
    "\n",
    "**Do this**: Make a scatterplot showing **fixed acidity** vs. **citric acid** for the wine dataset. Color-code the points so that red and white wines are in different colors. Then, display the best fit line for each type of wine in the same color as the points, and also display the best fit line for all wines combined in a different color. Don’t forget to label your axes. When you’re done, your plot should contain two colors of points and three lines (two lines should match the colors of the two wine types, and one line for the combined data in a different color).\n",
    "\n",
    "**Hint**: We've included a function to help you plot a line. Feel free to use it, or not."
   ]
  },
  {
   "cell_type": "code",
   "execution_count": 24,
   "metadata": {},
   "outputs": [],
   "source": [
    "# Put your code here\n",
    "\n",
    "import matplotlib.pyplot as plt\n",
    "import numpy as np\n",
    "def plot_line(slope, intercept, xmin, xmax, color):\n",
    "    xline = np.array([xmin,xmax])\n",
    "    yline = slope*xline+intercept\n",
    "    plt.plot(xline,yline,color)"
   ]
  },
  {
   "cell_type": "markdown",
   "metadata": {},
   "source": [
    "---\n",
    "### &#128721; STOP\n",
    "**Pause to commit your changes to your Git repository!**\n",
    "\n",
    "Take a moment to save your notebook, commit the changes to your local `git` repository using the commit message \"Part 3 complete\", and push the changes to GitHub.\n",
    "\n",
    "---"
   ]
  },
  {
   "cell_type": "markdown",
   "metadata": {},
   "source": [
    "## Part 4: Multiple Regression (16 points)\n",
    "\n",
    "In this part, we'll use multiple features to predict the **quality** of **red** wine samples. Specifically, we’ll explore how a combination of chemical properties—such as **volatile acidity**, **citric acid**, **alcohol**, and others—can be used to estimate the overall **quality** rating of red wines."
   ]
  },
  {
   "cell_type": "markdown",
   "metadata": {},
   "source": [
    "&#9989; **Question 4.1 (3 points)**: Using the `OLS` method in `statsmodels`, perform a multivariable linear regression to predict the **quality** of wine based on **volatile acidity**, **citric acid**, and **alcohol content**. Be sure to use the `add_constant()` method to ensure `OLS` includes a constant term in the model. As before, make sure to **display a summary of your results**."
   ]
  },
  {
   "cell_type": "code",
   "execution_count": null,
   "metadata": {},
   "outputs": [],
   "source": [
    "# Put your code here"
   ]
  },
  {
   "cell_type": "markdown",
   "metadata": {},
   "source": [
    "&#9989; **Question 4.2 (4 points)**: Answer the following questions:\n",
    "\n",
    "1. Suppose a red wine sample has a volatile acidity of 0.52, citric acid content of 0.27, and alcohol of 10.0. What does your linear model predict for the wine's quality rating? Explain how you arrived at your answer.\n",
    "\n",
    "2. For each of the features (volatile acidity, citric acid, and alcohol), specify if it is statistically significant in the model. Briefly justify your answers."
   ]
  },
  {
   "cell_type": "markdown",
   "metadata": {},
   "source": [
    "<font size=+3>&#9998;</font> Put your answers here:"
   ]
  },
  {
   "cell_type": "markdown",
   "metadata": {},
   "source": [
    "&#9989;  **Question 4.3 (3 points)**: Perform the same multivariable linear regression again, but this time check for chemicals and check if that improves the quality determination. Display the summary of these results."
   ]
  },
  {
   "cell_type": "code",
   "execution_count": null,
   "metadata": {},
   "outputs": [],
   "source": [
    "# Put your code here"
   ]
  },
  {
   "cell_type": "markdown",
   "metadata": {},
   "source": [
    "&#9989;  **Question 4.4 (4 points)**: Answer these questions: \n",
    "\n",
    "1. Qualitatively, how much better/worse is the reduced model compared to the original model? Briefly justify your answer.\n",
    "\n",
    "2. Explain in your own words why we might want to use a model with fewer features, even if it fits the data a bit worse than a model with more features."
   ]
  },
  {
   "cell_type": "markdown",
   "metadata": {},
   "source": [
    "<font size=+3>&#9998;</font> Put your answers here:"
   ]
  },
  {
   "cell_type": "markdown",
   "metadata": {},
   "source": [
    "&#9989; **Question 4.5 (2 points)**: Suppose we wanted to use the **color** of a wine (red or white) as a feature to predict its quality. Will simply including the `color` column in the second argument to `OLS()` work? If not, why, and what could we do to fix it?"
   ]
  },
  {
   "cell_type": "markdown",
   "metadata": {},
   "source": [
    "<font size=+3>&#9998;</font> Put your answers here:"
   ]
  },
  {
   "cell_type": "markdown",
   "metadata": {},
   "source": [
    "---\n",
    "### &#128721; STOP\n",
    "**Pause to commit your changes to your Git repository!**\n",
    "\n",
    "Take a moment to save your notebook, commit the changes to your local `git` repository using the commit message \"Part 4 complete\", and push the changes to GitHub.\n",
    "\n",
    "---"
   ]
  },
  {
   "cell_type": "markdown",
   "metadata": {},
   "source": [
    "## Part 5: Logistic Regression (16 points)\n",
    "\n",
    "In this part, we'd like to use logistic regression to classify whether a wine is **red** or **white** based on its chemical properties. Logistic regression, as we've learned in class, is commonly used for binary classification. Here, we’ll use it to distinguish between the two wine types, aiming for high accuracy in prediction, as mistaking one for the other could lead to a poor wine pairing experience!"
   ]
  },
  {
   "cell_type": "markdown",
   "metadata": {},
   "source": [
    "&#9989; **Question 5.1 (4 points)**: Let's start by setting up a classifier to distinguish **red wines** from **white wines**.\n",
    "\n",
    "**Do This**: Add a new column called `color` to both the red and white wine DataFrames. For red wine samples, set `color` to 1, and for white wine samples, set `color` to 0. Then, use `pd.concat()` to combine the two DataFrames into one unified DataFrame.\n",
    "\n",
    "**Hint**: After creating the `color` column in each DataFrame, use `pd.concat([df_red, df_white])` to concatenate them into a single DataFrame.\n",
    "\n",
    "Finally, split the combined DataFrame into **features** and **labels**, where `features` consists of all columns except `color` and `quality`, and `labels` is the `color` column."
   ]
  },
  {
   "cell_type": "code",
   "execution_count": null,
   "metadata": {},
   "outputs": [],
   "source": [
    "# Put your code here"
   ]
  },
  {
   "cell_type": "markdown",
   "metadata": {},
   "source": [
    "&#9989;  **Question 5.2 (4 points)**: Split your data into a training and testing set with a training set representing 75% of your data. For reproducibility, set the `random_state` argument to `0`. Print the shapes of the training features, the testing features, the training labels, and the testing labels to show you have the right number of entries in each of the four variables."
   ]
  },
  {
   "cell_type": "code",
   "execution_count": null,
   "metadata": {},
   "outputs": [],
   "source": [
    "# Put your code here"
   ]
  },
  {
   "cell_type": "markdown",
   "metadata": {},
   "source": [
    "&#9989;  **Question 5.3 (4 points)**: Now, train a logistic regression model using your training features and training labels. **Display the summary**."
   ]
  },
  {
   "cell_type": "code",
   "execution_count": null,
   "metadata": {},
   "outputs": [],
   "source": [
    "# Put your code here"
   ]
  },
  {
   "cell_type": "markdown",
   "metadata": {},
   "source": [
    "&#9989;  **Question 5.4 (4 points)**: Finally, test your logistic regression model using your testing features and testing labels. Display the fraction of testing data points that were correctly predicted. "
   ]
  },
  {
   "cell_type": "code",
   "execution_count": null,
   "metadata": {},
   "outputs": [],
   "source": [
    "# Put your code here"
   ]
  },
  {
   "cell_type": "markdown",
   "metadata": {},
   "source": [
    "---\n",
    "### &#128721; STOP\n",
    "**Pause to commit your changes to your Git repository!**\n",
    "\n",
    "Take a moment to save your notebook, commit the changes to your local `git` repository using the commit message \"Part 5 complete\", and push the changes to GitHub.\n",
    "\n",
    "---"
   ]
  },
  {
   "cell_type": "markdown",
   "metadata": {},
   "source": [
    "## Part 1. Continued\n",
    "\n",
    "Now that you've finished your new \"development\" on your 202 turn-in repo, you can merge your work back into your `main` branch.\n",
    "\n",
    "**&#9989; Do the following**:\n",
    "\n",
    "7. Switch back to your `main` branch. \n",
    "8. Merge your `hw03_branch` with your `main` branch. \n",
    "9. Finally, push the changes to GitHub."
   ]
  },
  {
   "cell_type": "markdown",
   "metadata": {},
   "source": [
    "## Congratulations, you're done!\n",
    "\n",
    "Submit this assignment by uploading it to the course Desire2Learn web page.  Go to the \"Homework Assignments\" folder, find the dropbox link for Homework 3, and upload it there."
   ]
  },
  {
   "cell_type": "markdown",
   "metadata": {},
   "source": []
  },
  {
   "cell_type": "markdown",
   "metadata": {},
   "source": [
    "&#169; Copyright 2024,  Department of Computational Mathematics, Science and Engineering at Michigan State University"
   ]
  },
  {
   "cell_type": "markdown",
   "metadata": {},
   "source": []
  }
 ],
 "metadata": {
  "kernelspec": {
   "display_name": "Python 3 (ipykernel)",
   "language": "python",
   "name": "python3"
  },
  "language_info": {
   "codemirror_mode": {
    "name": "ipython",
    "version": 3
   },
   "file_extension": ".py",
   "mimetype": "text/x-python",
   "name": "python",
   "nbconvert_exporter": "python",
   "pygments_lexer": "ipython3",
   "version": "3.11.5"
  },
  "toc": {
   "base_numbering": 1,
   "nav_menu": {},
   "number_sections": true,
   "sideBar": true,
   "skip_h1_title": false,
   "title_cell": "Table of Contents",
   "title_sidebar": "Contents",
   "toc_cell": false,
   "toc_position": {},
   "toc_section_display": true,
   "toc_window_display": false
  }
 },
 "nbformat": 4,
 "nbformat_minor": 4
}
